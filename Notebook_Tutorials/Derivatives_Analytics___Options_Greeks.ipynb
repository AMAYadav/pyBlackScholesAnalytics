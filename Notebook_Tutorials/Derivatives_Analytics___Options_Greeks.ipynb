{
 "cells": [
  {
   "cell_type": "markdown",
   "metadata": {},
   "source": [
    "# Derivatives Analytics - Options Greeks"
   ]
  },
  {
   "cell_type": "markdown",
   "metadata": {},
   "source": [
    "**Author**: [Gabriele Pompa](https://www.linkedin.com/in/gabrielepompa/): gabriele.pompa@unisi.com"
   ]
  },
  {
   "cell_type": "markdown",
   "metadata": {},
   "source": [
    "# Table of contents\n",
    "\n",
    "[Executive Summary](#executive-summary)\n",
    "\n",
    "1. [Option Greeks](#opt_greeks)\\\n",
    "    1.1. [Numeric Derivatives](#numeric_greeks)\\\n",
    "    1.2. [`NumericGreeks` class](#NumericGreeks_class)\\\n",
    "&nbsp; &nbsp; &nbsp; &nbsp; 1.2.1. [Numeric $\\Delta$](#Numeric_Delta)\\\n",
    "&nbsp; &nbsp; &nbsp; &nbsp; 1.2.2. [Numeric $\\Theta$](#Numeric_Theta)\\\n",
    "&nbsp; &nbsp; &nbsp; &nbsp; 1.2.3. [Numeric $\\Gamma$](#Numeric_Gamma)\\\n",
    "&nbsp; &nbsp; &nbsp; &nbsp; 1.2.4. [Effect of $\\epsilon$ reduction](#Numeric_Gamma_epsilon_reduction)\\\n",
    "&nbsp; &nbsp; &nbsp; &nbsp; 1.2.5. [Numeric Vega](#Numeric_Vega)\\\n",
    "&nbsp; &nbsp; &nbsp; &nbsp; 1.2.6. [Numeric $\\rho$](#Numeric_Rho)\\\n",
    "&nbsp; &nbsp; &nbsp; &nbsp; 1.2.7. [Put options](#Numeric_greeks_put)\\\n",
    "    1.3. [Analytic Vs Numeric greeks](#Analytic_Vs_Numeric_Greeks)\n",
    "2. [Implied volatility](#implied_volatility)\\\n",
    "    2.1. [Newton method to find the root of $\\sin(x)$ for $x \\in [-\\frac{\\pi}{2}, \\frac{\\pi}{2}]$](#newton_sin)\\\n",
    "    2.2. [Newton method to find $\\sigma_{imp}$](#newton_sigma)"
   ]
  },
  {
   "cell_type": "markdown",
   "metadata": {},
   "source": [
    "### **Resources**: \n",
    "\n",
    "- [_Python for Finance (2nd ed.)_](http://shop.oreilly.com/product/0636920117728.do): Chapter 6 Object-Oriented Programming."
   ]
  },
  {
   "cell_type": "markdown",
   "metadata": {},
   "source": [
    "# Executive Summary <a name=\"executive-summary\"></a>"
   ]
  },
  {
   "cell_type": "markdown",
   "metadata": {},
   "source": [
    "In this notebook we introduce option greeks. That is, the first-order derivatives of an option price with respect to its pricing parameters. We provide both a numeric computation using finite-difference methods implemented in `NumericGreeks` class and their analytic expression under the Black-Scholes models."
   ]
  },
  {
   "cell_type": "markdown",
   "metadata": {},
   "source": [
    "The following sections are organized as follows:\n",
    "\n",
    "- In Sec. [1](#opt_greeks) we introduce `NumericGreeks` class implementing finite-difference methods to compute the main greeks of an `EuropeanOption`. We make also comparisons between the numeric evaluation of greeks and their analytic expression under the Black-Scholes model.\n",
    "- In Sec. [2](#implied_volatility) we introduce the concept of implied volatility, the Newton root-finding method and the `.implied_volatility()` method that implements it (and Least-Squares constrained method) for an `EuropeanOption`.\n",
    "\n",
    "All features introduced in this and previous notebooks are collected in `pyBlackScholesAnalytics` Python package."
   ]
  },
  {
   "cell_type": "markdown",
   "metadata": {},
   "source": [
    "These are the basic imports"
   ]
  },
  {
   "cell_type": "code",
   "execution_count": 1,
   "metadata": {},
   "outputs": [],
   "source": [
    "# for NumPy arrays\n",
    "import numpy as np\n",
    "\n",
    "# for Pandas Series and DataFrame\n",
    "import pandas as pd\n",
    "\n",
    "# for statistical functions\n",
    "from scipy import stats\n",
    "\n",
    "# for Matplotlib plotting\n",
    "import matplotlib.pyplot as plt\n",
    "\n",
    "# to do inline plots in the Notebook\n",
    "%matplotlib inline\n",
    "\n",
    "# for Operating System operations\n",
    "import os\n",
    "\n",
    "# for some mathematical functions\n",
    "import math\n",
    "\n",
    "# for date management\n",
    "import datetime as dt\n",
    "\n",
    "# to identify iterable data-structures\n",
    "from collections.abc import Iterable"
   ]
  },
  {
   "cell_type": "markdown",
   "metadata": {},
   "source": [
    "This below is needed to inform the Python interpreter of classes and functions definitions stored in files under pyBlackScholesAnalytics directory."
   ]
  },
  {
   "cell_type": "code",
   "execution_count": 2,
   "metadata": {},
   "outputs": [],
   "source": [
    "#import os, sys\n",
    "#sys.path.insert(0, os.path.abspath('../pyBlackScholesAnalytics'))"
   ]
  },
  {
   "cell_type": "markdown",
   "metadata": {},
   "source": [
    "# 1. Option Greeks <a name=\"opt_greeks\"></a>"
   ]
  },
  {
   "cell_type": "markdown",
   "metadata": {},
   "source": [
    "Consider a plain-vanilla option of strike $K$, expiration date $T$ with pricing function at time $t$\n",
    "\n",
    "$$\n",
    "c_t = c(S_t, K, t, T, \\sigma, r) \n",
    "$$\n",
    "\n",
    "The greeks of this option are the first-order derivatives w.r.t. its pricing parameters: $S$ (the $\\Delta$), $t$ (the $\\Theta$), $\\sigma$ (the $Vega$) and $r$ (the $\\rho$).\n",
    "\n",
    "We first introduce finite-difference methods to compute them numerically and then compare them with their analytical expression under the Black-Scholes model."
   ]
  },
  {
   "cell_type": "markdown",
   "metadata": {},
   "source": [
    "## 1.1. Numeric Derivatives <a name=\"numeric_greeks\"></a>"
   ]
  },
  {
   "cell_type": "markdown",
   "metadata": {},
   "source": [
    "Let's start with a non-financial example. Let's compute the numeric derivative $f'(x)$ of $f(x)=\\sin(x)$ at $x_0=0$. We use finite differences, that is we approximate the exact derivative $f'(x_0)=\\cos(x_0)$ with the _central_ finite-difference\n",
    "\n",
    "$$\n",
    "f'_{num}(x_0) = \\frac{f(x_0 + \\epsilon) - f(x_0-\\epsilon)}{2 \\epsilon} + \\mathcal{O}(\\epsilon^2)\n",
    "$$\n",
    "\n",
    "where $\\epsilon$ is a tolerance threshold and the order of the remaining part (that we omit in our approximation) is second-order in $\\epsilon$. More on finite-difference methods (which are very general methods) on [Wikipedia](https://en.wikipedia.org/wiki/Finite_difference) (or [this post](http://www.math.unl.edu/~s-bbockel1/833-notes/node23.html))."
   ]
  },
  {
   "cell_type": "code",
   "execution_count": 3,
   "metadata": {},
   "outputs": [],
   "source": [
    "#from utils.utils import plot_compare"
   ]
  },
  {
   "cell_type": "code",
   "execution_count": 4,
   "metadata": {},
   "outputs": [],
   "source": [
    "from pyblackscholesanalytics.utils.utils import plot_compare"
   ]
  },
  {
   "cell_type": "code",
   "execution_count": 5,
   "metadata": {},
   "outputs": [],
   "source": [
    "x = np.linspace(0, 2*math.pi, 100)"
   ]
  },
  {
   "cell_type": "code",
   "execution_count": 6,
   "metadata": {},
   "outputs": [],
   "source": [
    "def df_dx(f, x0, eps):\n",
    "    return (f(x0 + eps) - f(x0 - eps))/(2*eps)"
   ]
  },
  {
   "cell_type": "code",
   "execution_count": 7,
   "metadata": {},
   "outputs": [],
   "source": [
    "# numeric derivative of sin(x)\n",
    "f_num_deriv = df_dx(f=np.sin, x0=x, eps=1e-10)\n",
    "\n",
    "# exact derivative of sin(x): cos(x)\n",
    "f_exact_deriv = np.cos(x)"
   ]
  },
  {
   "cell_type": "code",
   "execution_count": 8,
   "metadata": {
    "scrolled": false
   },
   "outputs": [
    {
     "data": {
      "image/png": "[encoded data removed]",
      "text/plain": [
       "<Figure size 1224x720 with 6 Axes>"
      ]
     },
     "metadata": {
      "needs_background": "light"
     },
     "output_type": "display_data"
    }
   ],
   "source": [
    "plot_compare(x, f=f_num_deriv, f_ref=f_exact_deriv, \n",
    "             f_label=r\"f'_{num}(x)\", f_ref_label=r\"cos(x)\",\n",
    "             title=r\"Numeric ($f'_{num}$) Vs Exact ($cos(x)$) derivative comparison of $f(x)=sin(x)$\")"
   ]
  },
  {
   "cell_type": "markdown",
   "metadata": {},
   "source": [
    "## 1.2. `NumericGreeks` class <a name=\"NumericGreeks_class\"></a>"
   ]
  },
  {
   "cell_type": "markdown",
   "metadata": {},
   "source": [
    "Let's go back to our options world and use finite-differences methods to compute the numeric derivatives of a plain-vanilla call option."
   ]
  },
  {
   "cell_type": "code",
   "execution_count": 9,
   "metadata": {},
   "outputs": [
    {
     "ename": "ModuleNotFoundError",
     "evalue": "No module named 'utils'",
     "output_type": "error",
     "traceback": [
      "\u001b[1;31m---------------------------------------------------------------------------\u001b[0m",
      "\u001b[1;31mModuleNotFoundError\u001b[0m                       Traceback (most recent call last)",
      "\u001b[1;32m<ipython-input-9-e1c73194bda3>\u001b[0m in \u001b[0;36m<module>\u001b[1;34m\u001b[0m\n\u001b[1;32m----> 1\u001b[1;33m \u001b[1;32mfrom\u001b[0m \u001b[0mpyblackscholesanalytics\u001b[0m\u001b[1;33m.\u001b[0m\u001b[0mmarket\u001b[0m\u001b[1;33m.\u001b[0m\u001b[0mmarket\u001b[0m \u001b[1;32mimport\u001b[0m \u001b[0mMarketEnvironment\u001b[0m\u001b[1;33m\u001b[0m\u001b[1;33m\u001b[0m\u001b[0m\n\u001b[0m",
      "\u001b[1;32m~\\Anaconda3\\envs\\ITForBusAndFin2020_env\\lib\\site-packages\\pyblackscholesanalytics\\market\\market.py\u001b[0m in \u001b[0;36m<module>\u001b[1;34m\u001b[0m\n\u001b[0;32m     13\u001b[0m \u001b[1;31m# ----------------------- sub-modules imports ------------------------------- #\u001b[0m\u001b[1;33m\u001b[0m\u001b[1;33m\u001b[0m\u001b[1;33m\u001b[0m\u001b[0m\n\u001b[0;32m     14\u001b[0m \u001b[1;33m\u001b[0m\u001b[0m\n\u001b[1;32m---> 15\u001b[1;33m \u001b[1;32mfrom\u001b[0m \u001b[0mutils\u001b[0m\u001b[1;33m.\u001b[0m\u001b[0mutils\u001b[0m \u001b[1;32mimport\u001b[0m \u001b[0mdate_string_to_datetime_obj\u001b[0m\u001b[1;33m\u001b[0m\u001b[1;33m\u001b[0m\u001b[0m\n\u001b[0m\u001b[0;32m     16\u001b[0m \u001b[1;33m\u001b[0m\u001b[0m\n\u001b[0;32m     17\u001b[0m \u001b[1;31m#-----------------------------------------------------------------------------#\u001b[0m\u001b[1;33m\u001b[0m\u001b[1;33m\u001b[0m\u001b[1;33m\u001b[0m\u001b[0m\n",
      "\u001b[1;31mModuleNotFoundError\u001b[0m: No module named 'utils'"
     ]
    }
   ],
   "source": [
    "from pyblackscholesanalytics.market.market import MarketEnvironment"
   ]
  },
  {
   "cell_type": "code",
   "execution_count": null,
   "metadata": {},
   "outputs": [],
   "source": [
    "mkt_env = MarketEnvironment()"
   ]
  },
  {
   "cell_type": "code",
   "execution_count": null,
   "metadata": {},
   "outputs": [],
   "source": [
    "from pyblackscholesanalytics.options.options import PlainVanillaOption"
   ]
  },
  {
   "cell_type": "code",
   "execution_count": null,
   "metadata": {},
   "outputs": [],
   "source": [
    "Vanilla_Call = PlainVanillaOption(mkt_env)"
   ]
  },
  {
   "cell_type": "code",
   "execution_count": null,
   "metadata": {},
   "outputs": [],
   "source": [
    "common_title_Call = Vanilla_Call.get_info() + \"\\n\" + \"Market at emission: \" + Vanilla_Call.get_mkt_info()"
   ]
  },
  {
   "cell_type": "markdown",
   "metadata": {},
   "source": [
    "This has been implemented in the `NumericGreeks` class."
   ]
  },
  {
   "cell_type": "code",
   "execution_count": null,
   "metadata": {},
   "outputs": [],
   "source": [
    "from utils.numeric_routines import NumericGreeks"
   ]
  },
  {
   "cell_type": "code",
   "execution_count": null,
   "metadata": {},
   "outputs": [],
   "source": [
    "NumGreeks = NumericGreeks(Vanilla_Call)"
   ]
  },
  {
   "cell_type": "code",
   "execution_count": null,
   "metadata": {},
   "outputs": [],
   "source": [
    "S_min = 50\n",
    "S_max = 150\n",
    "num_S = 2000\n",
    "S = np.linspace(S_min, S_max, num_S)"
   ]
  },
  {
   "cell_type": "markdown",
   "metadata": {},
   "source": [
    "### 1.2.1. Numeric $\\Delta$ <a name=\"Numeric_Delta\"></a>"
   ]
  },
  {
   "cell_type": "markdown",
   "metadata": {},
   "source": [
    "$\\Delta$ is the derivative w.r.t. to underlying level $S$"
   ]
  },
  {
   "cell_type": "code",
   "execution_count": null,
   "metadata": {},
   "outputs": [],
   "source": [
    "delta_numeric = NumGreeks.delta(S=S)"
   ]
  },
  {
   "cell_type": "code",
   "execution_count": null,
   "metadata": {},
   "outputs": [],
   "source": [
    "from pyblackscholesanalytics.utils.utils import plot"
   ]
  },
  {
   "cell_type": "code",
   "execution_count": null,
   "metadata": {
    "scrolled": false
   },
   "outputs": [],
   "source": [
    "plot(x=S, f=delta_numeric, x_label=r\"$S$\", f_label=r\"$\\Delta_{call}(S)$\", \n",
    "     f_up=np.ones(num_S), f_up_label=r\"Upper bound\",\n",
    "     f_down=np.zeros(num_S), f_down_label=r\"Lower bound\",\n",
    "     title=r\"Numeric Delta of a \" + common_title_Call)"
   ]
  },
  {
   "cell_type": "markdown",
   "metadata": {},
   "source": [
    "### 1.2.2. Numeric $\\Theta$ <a name=\"Numeric_Theta\"></a>"
   ]
  },
  {
   "cell_type": "markdown",
   "metadata": {},
   "source": [
    "$\\Theta$ is the derivative w.r.t. to time $t$"
   ]
  },
  {
   "cell_type": "code",
   "execution_count": null,
   "metadata": {},
   "outputs": [],
   "source": [
    "theta_numeric = NumGreeks.theta(S=S)"
   ]
  },
  {
   "cell_type": "code",
   "execution_count": null,
   "metadata": {
    "scrolled": false
   },
   "outputs": [],
   "source": [
    "plot(x=S, f=theta_numeric, x_label=r\"$S$\", f_label=r\"$\\Theta_{call}(S)$\",\n",
    "     f_up=np.zeros(num_S), f_up_label=r\"Upper bound\",\n",
    "     title=r\"Numeric Theta of a \" + common_title_Call)"
   ]
  },
  {
   "cell_type": "markdown",
   "metadata": {},
   "source": [
    "### 1.2.3. Numeric $\\Gamma$ <a name=\"Numeric_Gamma\"></a>"
   ]
  },
  {
   "cell_type": "markdown",
   "metadata": {},
   "source": [
    "$\\Gamma$ is the second derivative w.r.t. to underlying level $S$. Being a second-order derivative, its finite-difference approximation is the following (omitting other pricing parameters)\n",
    "\n",
    "$$\n",
    "\\Gamma_{num}(...,S_0) = \\frac{c(...,S_0 - \\epsilon) - 2 c(...,S_0) + c(...,S_0 + \\epsilon) }{\\epsilon^2} + \\mathcal{O}(\\epsilon^2)\n",
    "$$\n"
   ]
  },
  {
   "cell_type": "code",
   "execution_count": null,
   "metadata": {},
   "outputs": [],
   "source": [
    "gamma_numeric = NumGreeks.gamma(S=S)"
   ]
  },
  {
   "cell_type": "code",
   "execution_count": null,
   "metadata": {
    "scrolled": false
   },
   "outputs": [],
   "source": [
    "plot(x=S, f=gamma_numeric, x_label=r\"$S$\", f_label=r\"$\\Gamma(S)$\",\n",
    "     f_down=np.zeros(num_S), f_down_label=r\"Lower bound\",\n",
    "     title=r\"Numeric Gamma of a \" + common_title_Call)"
   ]
  },
  {
   "cell_type": "markdown",
   "metadata": {},
   "source": [
    "### 1.2.4. Effect of $\\epsilon$ reduction <a name=\"Numeric_Gamma_epsilon_reduction\"></a>"
   ]
  },
  {
   "cell_type": "markdown",
   "metadata": {},
   "source": [
    "Reducing $\\epsilon$ does not guarantee increased accuracy. On the contrary, it can severely decrease the stability and overall quality of numeric approximation. Let's consider this effect on the $\\Gamma$ greek."
   ]
  },
  {
   "cell_type": "code",
   "execution_count": null,
   "metadata": {
    "scrolled": false
   },
   "outputs": [],
   "source": [
    "# epsilon reduction: 1e-4 --> 1e-5\n",
    "NumGreeks.set_epsilon(1e-5)\n",
    "\n",
    "# numeric gamma\n",
    "gamma_numeric = NumGreeks.gamma(S=S)\n",
    "\n",
    "# gamma plot\n",
    "plot(x=S, f=gamma_numeric, x_label=r\"$S$\", f_label=r\"$\\Gamma_{call}(S)$\", \n",
    "     f_down=np.zeros(num_S), f_down_label=r\"Lower bound\",\n",
    "     title=r\"Numeric Gamma ($\\epsilon={}$) of a \".format(NumGreeks.get_epsilon()) + common_title_Call)\n",
    "\n",
    "# epsilon further reduction: 1e-5 --> 5e-6\n",
    "NumGreeks.set_epsilon(5e-6)\n",
    "\n",
    "# numeric gamma\n",
    "gamma_numeric = NumGreeks.gamma(S=S)\n",
    "\n",
    "# gamma plot\n",
    "plot(x=S, f=gamma_numeric, x_label=r\"$S$\", f_label=r\"$\\Gamma_{call}(S)$\", \n",
    "     f_down=np.zeros(num_S), f_down_label=r\"Lower bound\",\n",
    "     title=r\"Numeric Gamma ($\\epsilon={}$) of a \".format(NumGreeks.get_epsilon()) + common_title_Call)\n",
    "\n",
    "# epsilon even further reduction: 1e-5 --> 1e-6\n",
    "NumGreeks.set_epsilon(1e-6)\n",
    "\n",
    "# numeric gamma\n",
    "gamma_numeric = NumGreeks.gamma(S=S)\n",
    "\n",
    "# gamma plot\n",
    "plot(x=S, f=gamma_numeric, x_label=r\"$S$\", f_label=r\"$\\Gamma_{call}(S)$\", \n",
    "     f_down=np.zeros(num_S), f_down_label=r\"Lower bound\",\n",
    "     title=r\"Numeric Gamma ($\\epsilon={}$) of a \".format(NumGreeks.get_epsilon()) + common_title_Call)\n",
    "\n",
    "# restoring default value of epsilon\n",
    "NumGreeks.set_epsilon()\n",
    "\n",
    "# numeric gamma\n",
    "gamma_numeric = NumGreeks.gamma(S=S)\n",
    "\n",
    "# gamma plot\n",
    "plot(x=S, f=gamma_numeric, x_label=r\"$S$\", f_label=r\"$\\Gamma_{call}(S)$\", \n",
    "     f_down=np.zeros(num_S), f_down_label=r\"Lower bound\",\n",
    "     title=r\"Numeric Gamma ($\\epsilon={}$ default) of a \".format(NumGreeks.get_epsilon()) + common_title_Call)"
   ]
  },
  {
   "cell_type": "markdown",
   "metadata": {},
   "source": [
    "### 1.2.5. Numeric Vega <a name=\"Numeric_Vega\"></a>"
   ]
  },
  {
   "cell_type": "markdown",
   "metadata": {},
   "source": [
    "$Vega$ is the derivative w.r.t. to underlying volatility $\\sigma$"
   ]
  },
  {
   "cell_type": "code",
   "execution_count": null,
   "metadata": {},
   "outputs": [],
   "source": [
    "vega_numeric = NumGreeks.vega(S=S)"
   ]
  },
  {
   "cell_type": "code",
   "execution_count": null,
   "metadata": {},
   "outputs": [],
   "source": [
    "plot(x=S, f=vega_numeric, x_label=r\"$S$\", f_label=r\"Vega$(S)$\", \n",
    "     f_down=np.zeros(num_S), f_down_label=r\"Lower bound\",\n",
    "     title=r\"Numeric Rho of a \" + common_title_Call)"
   ]
  },
  {
   "cell_type": "markdown",
   "metadata": {},
   "source": [
    "### 1.2.6. Numeric $\\rho$ <a name=\"Numeric_Rho\"></a>"
   ]
  },
  {
   "cell_type": "markdown",
   "metadata": {},
   "source": [
    "$\\rho$ is the derivative w.r.t. to short-rate level $r$"
   ]
  },
  {
   "cell_type": "code",
   "execution_count": null,
   "metadata": {},
   "outputs": [],
   "source": [
    "rho_numeric = NumGreeks.rho(S=S)"
   ]
  },
  {
   "cell_type": "code",
   "execution_count": null,
   "metadata": {},
   "outputs": [],
   "source": [
    "plot(x=S, f=rho_numeric, x_label=r\"$S$\", f_label=r\"$\\rho_{Call}(S)$\", \n",
    "     f_down=np.zeros(num_S), f_down_label=r\"Lower bound\",\n",
    "     title=r\"Numeric Rho of a \" + common_title_Call)"
   ]
  },
  {
   "cell_type": "markdown",
   "metadata": {},
   "source": [
    "### 1.2.7. Put options <a name=\"Numeric_greeks_put\"></a>"
   ]
  },
  {
   "cell_type": "markdown",
   "metadata": {},
   "source": [
    "Let's make an example using a `Vanilla_Put` option"
   ]
  },
  {
   "cell_type": "code",
   "execution_count": null,
   "metadata": {
    "scrolled": true
   },
   "outputs": [],
   "source": [
    "Vanilla_Put = PlainVanillaOption(mkt_env, option_type=\"put\")"
   ]
  },
  {
   "cell_type": "code",
   "execution_count": null,
   "metadata": {},
   "outputs": [],
   "source": [
    "common_title_Put = Vanilla_Put.get_info() + \"\\n\" + \"Market at emission: \" + Vanilla_Call.get_mkt_info()"
   ]
  },
  {
   "cell_type": "code",
   "execution_count": null,
   "metadata": {},
   "outputs": [],
   "source": [
    "NumGreeks = NumericGreeks(Vanilla_Put)"
   ]
  },
  {
   "cell_type": "code",
   "execution_count": null,
   "metadata": {},
   "outputs": [],
   "source": [
    "delta_numeric = NumGreeks.delta(S=S)"
   ]
  },
  {
   "cell_type": "code",
   "execution_count": null,
   "metadata": {
    "scrolled": false
   },
   "outputs": [],
   "source": [
    "plot(x=S, f=delta_numeric, x_label=r\"$S$\", f_label=r\"$\\Delta_{Put}(S)$\", \n",
    "     f_up=np.zeros(len(S)), f_up_label=r\"Upper bound\",\n",
    "     f_down=-np.ones(len(S)), f_down_label=r\"Lower bound\",\n",
    "     title=r\"Numeric Delta of a \" + common_title_Put)"
   ]
  },
  {
   "cell_type": "markdown",
   "metadata": {},
   "source": [
    "## 1.3. Analytic Vs Numeric greeks <a name=\"Analytic_Vs_Numeric_Greeks\"></a>"
   ]
  },
  {
   "cell_type": "markdown",
   "metadata": {},
   "source": [
    "Under the Black-Scholes model, analytical expressions for greeks of plain-vanilla (as well as for digital) options are available. We have implemented them in `PlainVanillaOption` and `DigitalOption` classes, respectively. It's interesting to compare the numeric and analytical implementation of the same greek, to better appreciate the numerical error."
   ]
  },
  {
   "cell_type": "code",
   "execution_count": null,
   "metadata": {},
   "outputs": [],
   "source": [
    "NumGreeks = NumericGreeks(Vanilla_Call)"
   ]
  },
  {
   "cell_type": "markdown",
   "metadata": {},
   "source": [
    "Let's define a simple utility function to better display plot titles"
   ]
  },
  {
   "cell_type": "code",
   "execution_count": null,
   "metadata": {},
   "outputs": [],
   "source": [
    "def greeks_title_factory(ObjWithGreeksMethod, greek_type, underlying=\"S\"):\n",
    "\n",
    "    # plot common title\n",
    "    common_title = ObjWithGreeksMethod.get_info() + \"\\n\" + \"Market at emission: \" + ObjWithGreeksMethod.get_mkt_info()\n",
    "\n",
    "    title_dispatcher = {\"delta\": r\"$\\Delta(\" + underlying + \")$\",\n",
    "                         \"theta\": r\"$\\Theta(\" + underlying + \")$\",\n",
    "                         \"gamma\": r\"$\\Gamma(\" + underlying + \")$\",\n",
    "                         \"vega\":  r\"$Vega(\" + underlying + \")$\",\n",
    "                         \"rho\":  r\"$\\rho(\" + underlying + \")$\",\n",
    "    }\n",
    "\n",
    "    # plot title\n",
    "    plot_title = r\"Comparison of Numeric and Exact \" + greek_type + \" \" + title_dispatcher[greek_type] + \" Vs $\" + underlying + \"$ for a \\n\" + common_title\n",
    "    \n",
    "    return plot_title"
   ]
  },
  {
   "cell_type": "markdown",
   "metadata": {},
   "source": [
    "Comparison of $\\Delta$:"
   ]
  },
  {
   "cell_type": "code",
   "execution_count": null,
   "metadata": {},
   "outputs": [],
   "source": [
    "delta_analytic = Vanilla_Call.delta(S=S)"
   ]
  },
  {
   "cell_type": "code",
   "execution_count": null,
   "metadata": {},
   "outputs": [],
   "source": [
    "delta_numeric = NumGreeks.delta(S=S)"
   ]
  },
  {
   "cell_type": "code",
   "execution_count": null,
   "metadata": {
    "scrolled": false
   },
   "outputs": [],
   "source": [
    "plot_title = greeks_title_factory(Vanilla_Call, \"delta\")\n",
    "\n",
    "plot_compare(S, f=delta_numeric, f_ref=delta_analytic, \n",
    "             f_label=r\"\\Delta^{num}_{Call}(S)\", f_ref_label=r\"\\Delta^{exact}_{Call}(S)\",\n",
    "             x_label=\"S\",f_test_name=\"Numeric Delta\",\n",
    "             f_ref_name=\"Exact Delta\", title=plot_title)"
   ]
  },
  {
   "cell_type": "markdown",
   "metadata": {},
   "source": [
    "Comparison of theta:"
   ]
  },
  {
   "cell_type": "code",
   "execution_count": null,
   "metadata": {},
   "outputs": [],
   "source": [
    "theta_analytic = Vanilla_Call.theta(S=S)"
   ]
  },
  {
   "cell_type": "code",
   "execution_count": null,
   "metadata": {},
   "outputs": [],
   "source": [
    "theta_numeric = NumGreeks.theta(S=S)"
   ]
  },
  {
   "cell_type": "code",
   "execution_count": null,
   "metadata": {
    "scrolled": false
   },
   "outputs": [],
   "source": [
    "plot_title = greeks_title_factory(Vanilla_Call, \"theta\")\n",
    "\n",
    "plot_compare(S, f=theta_numeric, f_ref=theta_analytic, \n",
    "             f_label=r\"\\Theta^{num}_{Call}(S)\", f_ref_label=r\"\\Theta^{exact}_{Call}(S)\",\n",
    "             x_label=\"S\",f_test_name=\"Numeric Theta\",\n",
    "             f_ref_name=\"Exact Theta\", title=plot_title)"
   ]
  },
  {
   "cell_type": "markdown",
   "metadata": {},
   "source": [
    "Comparison of gamma:"
   ]
  },
  {
   "cell_type": "code",
   "execution_count": null,
   "metadata": {},
   "outputs": [],
   "source": [
    "gamma_analytic = Vanilla_Call.gamma(S=S)"
   ]
  },
  {
   "cell_type": "code",
   "execution_count": null,
   "metadata": {},
   "outputs": [],
   "source": [
    "gamma_numeric = NumGreeks.gamma(S=S)"
   ]
  },
  {
   "cell_type": "code",
   "execution_count": null,
   "metadata": {
    "scrolled": false
   },
   "outputs": [],
   "source": [
    "plot_title = greeks_title_factory(Vanilla_Call, \"gamma\")\n",
    "\n",
    "plot_compare(S, f=gamma_numeric, f_ref=gamma_analytic, \n",
    "             f_label=r\"\\Gamma^{num}_{Call}(S)\", f_ref_label=r\"\\Gamma^{exact}_{Call}(S)\",\n",
    "             x_label=\"S\",f_test_name=\"Numeric gamma\",\n",
    "             f_ref_name=\"Exact gamma\", title=plot_title)"
   ]
  },
  {
   "cell_type": "markdown",
   "metadata": {},
   "source": [
    "Comparison of vega:"
   ]
  },
  {
   "cell_type": "code",
   "execution_count": null,
   "metadata": {},
   "outputs": [],
   "source": [
    "vega_analytic = Vanilla_Call.vega(S=S)"
   ]
  },
  {
   "cell_type": "code",
   "execution_count": null,
   "metadata": {},
   "outputs": [],
   "source": [
    "vega_numeric = NumGreeks.vega(S=S)"
   ]
  },
  {
   "cell_type": "code",
   "execution_count": null,
   "metadata": {
    "scrolled": false
   },
   "outputs": [],
   "source": [
    "plot_title = greeks_title_factory(Vanilla_Call, \"vega\")\n",
    "\n",
    "plot_compare(S, f=vega_numeric, f_ref=vega_analytic, \n",
    "             f_label=r\"Vega^{num}_{Call}(S)\", f_ref_label=r\"Vega^{exact}_{Call}(S)\",\n",
    "             x_label=\"S\",f_test_name=\"Numeric vega\",\n",
    "             f_ref_name=\"Exact vega\", title=plot_title)"
   ]
  },
  {
   "cell_type": "markdown",
   "metadata": {},
   "source": [
    "Comparison of rho:"
   ]
  },
  {
   "cell_type": "code",
   "execution_count": null,
   "metadata": {},
   "outputs": [],
   "source": [
    "rho_analytic = Vanilla_Call.rho(S=S)"
   ]
  },
  {
   "cell_type": "code",
   "execution_count": null,
   "metadata": {},
   "outputs": [],
   "source": [
    "rho_numeric = NumGreeks.rho(S=S)"
   ]
  },
  {
   "cell_type": "code",
   "execution_count": null,
   "metadata": {
    "scrolled": false
   },
   "outputs": [],
   "source": [
    "plot_title = greeks_title_factory(Vanilla_Call, \"rho\")\n",
    "\n",
    "plot_compare(S, f=rho_numeric, f_ref=rho_analytic, \n",
    "             f_label=r\"\\rho^{num}_{Call}(S)\", f_ref_label=r\"\\rho^{exact}_{Call}(S)\",\n",
    "             x_label=\"S\",f_test_name=\"Numeric rho\",\n",
    "             f_ref_name=\"Exact rho\", title=plot_title)"
   ]
  },
  {
   "cell_type": "markdown",
   "metadata": {},
   "source": [
    "# 2. Implied volatility <a name=\"implied_volatility\"></a>"
   ]
  },
  {
   "cell_type": "markdown",
   "metadata": {},
   "source": [
    "Black-Scholes implied volatility $\\sigma_{imp}$ of an option is that value of the underlying asset volatility $\\sigma$ such that the Black-Scholes price of the option matches a target price $c_{*}$ (typically either coming from a market quote for the same option or from another model used to evaluate it). That is $\\sigma_{imp}$ is the solution of the equation:\n",
    "\n",
    "$$\n",
    "c(S_t, K, t, T, \\sigma, r) = c_{*}\n",
    "$$\n",
    "\n",
    "where $c(S_t, K, t, T, \\sigma, r)$ is the Black-Scholes price of an option of strike $K$ and expiratio $T$ at time $t$.\n",
    "This parameter is what is tipically quoted for options (instead of prices) and is, therefore, fundamental. Its centrality has lead to the development of very sofisticated root-finding methods. We'll start our exploration of implied volatility using the simplest one: the Newton method that we now introduce."
   ]
  },
  {
   "cell_type": "markdown",
   "metadata": {},
   "source": [
    "## 2.1. Newton method to find the root of $\\sin(x)$ for $x \\in [-\\frac{\\pi}{2}, \\frac{\\pi}{2}]$ <a name=\"newton_sin\"></a>"
   ]
  },
  {
   "cell_type": "markdown",
   "metadata": {},
   "source": [
    "Let's quickly refresh Newton method. It is a numerical method to find roots of a function $f(x)$ through an iterative procedure. The goal then is to find a solution for $f(x)=0$. Given the n-th approximating root $x_n$, the subsequent is found as\n",
    "\n",
    "$$\n",
    "x_{n+1} = x_n - \\frac{f(x_n)}{f'(x_n)}\n",
    "$$\n",
    "\n",
    "that is, it uses the old approximation $x_n$, the function $f$ evaluated at $x_n$ as well as its first-derivative $f'$ with respect to $x$ evaluated at $x_n$. Typically, a stopping criterion involving differences between subsequent approximations \n",
    "\n",
    "$$\n",
    "|x_{n+1} - x_{n}| < \\epsilon\n",
    "$$\n",
    "\n",
    "or relative differences \n",
    "\n",
    "$$\n",
    "\\frac{|x_{n+1} - x_{n}|}{|x_{n}|} < \\epsilon\n",
    "$$\n",
    "\n",
    "is used.\n",
    "\n",
    "Start from [Wikipedia](https://en.wikipedia.org/wiki/Newton%27s_method) if you never heard about this fundamental method."
   ]
  },
  {
   "cell_type": "markdown",
   "metadata": {},
   "source": [
    "Let's see an example, trying to find a solution for the equation $\\sin(x) = 0$ for $x \\in [-\\frac{\\pi}{2}, \\frac{\\pi}{2}]$."
   ]
  },
  {
   "cell_type": "code",
   "execution_count": null,
   "metadata": {},
   "outputs": [],
   "source": [
    "# setting tolerance\n",
    "epsilon = 1e-8\n",
    "\n",
    "# stopping criterion initialization\n",
    "relative_diff = epsilon + 1\n",
    "\n",
    "# additionally, we set a maximum number of iterations allowed\n",
    "max_iter = 100\n",
    "iter_num = 1\n",
    "\n",
    "# initial guess for the solution: must be not 'too far' from the solution... \n",
    "# because Newton method is a 'local' minimization method\n",
    "\n",
    "# initialize approximation to an initial guess\n",
    "x_np1 = 1.0 # x_{n+1}\n",
    "\n",
    "while (relative_diff > epsilon) and (iter_num <= max_iter):\n",
    "        \n",
    "    # updated last solution found: x_n <-- x_{n+1}\n",
    "    x_n = x_np1\n",
    "    \n",
    "    # function to minimize at last solution found\n",
    "    f_n = np.sin(x_n)\n",
    "    \n",
    "    # derivative w.r.t. to x at last solution found\n",
    "    df_div_n = np.cos(x_n)\n",
    "    \n",
    "    # new solution found\n",
    "    x_np1 = x_n - f_n/df_div_n\n",
    "    \n",
    "    # calculation of new value for stopping metrics\n",
    "    relative_diff = abs((x_np1 - x_n)/x_n)\n",
    "    \n",
    "    # iteration counter update\n",
    "    iter_num += 1"
   ]
  },
  {
   "cell_type": "markdown",
   "metadata": {},
   "source": [
    "Here is the solution found (should be $x=0$ of course)"
   ]
  },
  {
   "cell_type": "code",
   "execution_count": null,
   "metadata": {},
   "outputs": [],
   "source": [
    "x_np1"
   ]
  },
  {
   "cell_type": "code",
   "execution_count": null,
   "metadata": {},
   "outputs": [],
   "source": [
    "np.sin(x_np1)"
   ]
  },
  {
   "cell_type": "markdown",
   "metadata": {},
   "source": [
    "And the solution has been found in 7 iterations (very quick!)"
   ]
  },
  {
   "cell_type": "code",
   "execution_count": null,
   "metadata": {},
   "outputs": [],
   "source": [
    "iter_num"
   ]
  },
  {
   "cell_type": "markdown",
   "metadata": {},
   "source": [
    "## 2.2. Newton method to find $\\sigma_{imp}$ <a name=\"newton_sigma\"></a>"
   ]
  },
  {
   "cell_type": "markdown",
   "metadata": {},
   "source": [
    "We now specialize the Newton method to find the implied volatility of the option. The iterative updating procedure becomes\n",
    "\n",
    "$$\n",
    "\\sigma_{n+1} = \\sigma_n - \\frac{c(...,\\sigma_n) - c_{*}}{Vega(..., \\sigma_n)}\n",
    "$$\n",
    "\n",
    "where we have considered that \n",
    "\n",
    "$$\n",
    "\\frac{\\partial c(...,\\sigma) - c_{*}}{\\partial \\sigma} = \\frac{\\partial c(...,\\sigma) }{\\partial \\sigma} = Vega(..., \\sigma)\n",
    "$$\n",
    "\n",
    "by definition."
   ]
  },
  {
   "cell_type": "markdown",
   "metadata": {},
   "source": [
    "An implied volatility calculation using the Newton method is implemented in the `.implied_volatility()` method of `EuropeanOption` class."
   ]
  },
  {
   "cell_type": "markdown",
   "metadata": {},
   "source": [
    "So let's consider our plain-vanilla call"
   ]
  },
  {
   "cell_type": "code",
   "execution_count": null,
   "metadata": {},
   "outputs": [],
   "source": [
    "Vanilla_Call"
   ]
  },
  {
   "cell_type": "markdown",
   "metadata": {},
   "source": [
    "Let's use the Black-Scholes price of this option as our target price $c_*$"
   ]
  },
  {
   "cell_type": "code",
   "execution_count": null,
   "metadata": {},
   "outputs": [],
   "source": [
    "c_star = Vanilla_Call.price()\n",
    "c_star"
   ]
  },
  {
   "cell_type": "markdown",
   "metadata": {},
   "source": [
    "By construction, this option has been generated assuming a `MarketEnvironment` with an underlying volatility of 20% per year"
   ]
  },
  {
   "cell_type": "code",
   "execution_count": null,
   "metadata": {},
   "outputs": [],
   "source": [
    "Vanilla_Call.get_sigma()"
   ]
  },
  {
   "cell_type": "markdown",
   "metadata": {},
   "source": [
    "Therefore, we expect that the Black-Scholes implied volatility of this option to be exactly $\\sigma_{imp} = 0.2$."
   ]
  },
  {
   "cell_type": "markdown",
   "metadata": {},
   "source": [
    "This can be easily proved usnig the `.implied_volatility()` method and providing (is optional) an initial guess `iv_estimated` for the volatility, as well as the target price $c_*$ as the `target_price` parameter"
   ]
  },
  {
   "cell_type": "code",
   "execution_count": null,
   "metadata": {},
   "outputs": [],
   "source": [
    "Vanilla_Call.implied_volatility(iv_estimated=0.1, target_price=c_star)"
   ]
  },
  {
   "cell_type": "markdown",
   "metadata": {},
   "source": [
    "The solution is found in 5 iterations and is 20% per year, as expected."
   ]
  },
  {
   "cell_type": "markdown",
   "metadata": {},
   "source": [
    "One last example. Let's compute our target price $c_*$ with another volatility value: $\\sigma = 0.15$"
   ]
  },
  {
   "cell_type": "code",
   "execution_count": null,
   "metadata": {},
   "outputs": [],
   "source": [
    "c_star = Vanilla_Call.price(sigma=0.15)\n",
    "c_star"
   ]
  },
  {
   "cell_type": "markdown",
   "metadata": {},
   "source": [
    "We thus expect in this case to be $\\sigma_{imp}=0.15$. And this is the case:"
   ]
  },
  {
   "cell_type": "code",
   "execution_count": null,
   "metadata": {},
   "outputs": [],
   "source": [
    "Vanilla_Call.implied_volatility(iv_estimated=0.1, target_price=c_star)"
   ]
  }
 ],
 "metadata": {
  "kernelspec": {
   "display_name": "Python 3",
   "language": "python",
   "name": "python3"
  },
  "language_info": {
   "codemirror_mode": {
    "name": "ipython",
    "version": 3
   },
   "file_extension": ".py",
   "mimetype": "text/x-python",
   "name": "python",
   "nbconvert_exporter": "python",
   "pygments_lexer": "ipython3",
   "version": "3.7.4"
  }
 },
 "nbformat": 4,
 "nbformat_minor": 2
}
